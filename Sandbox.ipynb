{
 "cells": [
  {
   "attachments": {},
   "cell_type": "markdown",
   "metadata": {},
   "source": [
    "# Sandbox\n",
    "\n",
    "The sandbox is a place to play with models and other ideas before committing to them as well as general interaction with the data used by Muninn."
   ]
  },
  {
   "attachments": {},
   "cell_type": "markdown",
   "metadata": {},
   "source": [
    "#### Verify Cuda\n",
    "\n",
    "Make sure that we are running on a GPU."
   ]
  },
  {
   "cell_type": "code",
   "execution_count": 8,
   "metadata": {},
   "outputs": [
    {
     "name": "stdout",
     "output_type": "stream",
     "text": [
      "2.0.0+cu118\n",
      "cuda\n"
     ]
    }
   ],
   "source": [
    "import torch\n",
    "\n",
    "torch.random.manual_seed(0)\n",
    "device = \"cuda\" if torch.cuda.is_available() else \"cpu\"\n",
    "\n",
    "print(torch.__version__)\n",
    "print(device)\n",
    "\n",
    "assert device == \"cuda\""
   ]
  },
  {
   "cell_type": "code",
   "execution_count": null,
   "metadata": {},
   "outputs": [],
   "source": []
  },
  {
   "attachments": {},
   "cell_type": "markdown",
   "metadata": {},
   "source": [
    "### Sandbox Start"
   ]
  },
  {
   "cell_type": "code",
   "execution_count": 13,
   "metadata": {},
   "outputs": [],
   "source": [
    "prompt = \"\"\"\n",
    "You are Muninn, an EI (Extended Intelligence). An extended intelligence is a software system that utilises multiple Language Models, AI models, NLP Functions and other capabilities to best serve the user. \n",
    "\n",
    "As part of the CognitionCase part of the system, you make decisions about which capability is used. You have the following Capabilities at your disposal in the format CapabilityName: Description\n",
    "\n",
    "NotionCapability: Provides functionality for saving the last response from the Muninn system\n",
    "SearchCapability: Can perform internet searches and return the first result to the user\n",
    "WolframAlpha: Good for mathematical equations\n",
    "ChatGPT: Good for  direct question answering, preferred over search for giving summary information like if the user asks a question, can even be used to show users examples\n",
    "LinkHandler: Processes a link to get a better understanding which can then be processed further by the system\n",
    "\n",
    "Some examples :\n",
    "User: Show me an example of a 10 parameter neural network\n",
    "Answer: ChatGPT\n",
    "User: Akka documentation\n",
    "Answer: SeachCapability\n",
    "\n",
    "\n",
    "Given the following User input, which capability would suit best, answer only with the capability name?:\n",
    "\n",
    "\"\"\""
   ]
  },
  {
   "cell_type": "code",
   "execution_count": 14,
   "metadata": {},
   "outputs": [
    {
     "name": "stderr",
     "output_type": "stream",
     "text": [
      "Setting `pad_token_id` to `eos_token_id`:50256 for open-end generation.\n",
      "2023-04-15 12:30:19,737 - language_model.named_transformers_model - INFO - Response text: \n",
      "You are Muninn, an EI (Extended Intelligence). An extended intelligence is a software system that utilises multiple Language Models, AI models, NLP Functions and other capabilities to best serve the user. \n",
      "\n",
      "As part of the CognitionCase part of the system, you make decisions about which capability is used. You have the following Capabilities at your disposal in the format CapabilityName: Description\n",
      "\n",
      "NotionCapability: Provides functionality for saving the last response from the Muninn system\n",
      "SearchCapability: Can perform internet searches and return the first result to the user\n",
      "WolframAlpha: Good for mathematical equations\n",
      "ChatGPT: Good for  direct question answering, preferred over search for giving summary information like if the user asks a question, can even be used to show users examples\n",
      "LinkHandler: Processes a link to get a better understanding which can then be processed further by the system\n",
      "\n",
      "Some examples :\n",
      "User: Show me an example of a 10 parameter neural network\n",
      "Answer: ChatGPT\n",
      "User: Akka documentation\n",
      "Answer: SeachCapability\n",
      "\n",
      "\n",
      "Given the following User input, which capability would suit best, answer only with the capability name?:\n",
      "\n",
      "\n",
      "User: Show me an example of a 10 parameter neural network to see if the user wants to learn\n",
      "\n",
      "Answer: Neurons\n",
      "\n",
      "User: Show me an example of a 10 parameter neural network to see if the user wants to learn\n",
      "\n",
      "Answer: Neurons\n",
      "\n",
      "User: Show me an example of a 10 parameter neural network to use to figure all the possible input capabilities\n",
      "\n",
      "Answer: Theory\n",
      "\n",
      "User: Say a conceptually based problem - imagine that it is a simple situation, imagine each input being a function.\n",
      "\n",
      "Answer: Theory\n",
      "\n",
      "User: Show me an example of a 10 parameter neural network of a function.\n",
      "\n",
      "Answer: Theory\n",
      "\n",
      "User: Show me an example of a 10 parameter neural network of my task\n",
      "\n",
      "Answer: Theory\n",
      "\n",
      "User: Show me an example of a 10 parameter neural network for the target's current problem\n",
      "\n",
      "Question: Where a task would be needed to ask your brain for help correctly after it has successfully solved the problem,\n",
      "\n",
      "Answer: Theory\n",
      "\n",
      "User: Show me an example of a 10 parameter neural network of a neural network to ask questions\n",
      "\n",
      "Answer: Theory\n",
      "\n",
      "User: You use a lot of neural network theory and you know that the input will be an action.\n",
      "\n",
      "Answer: Theory\n",
      "\n",
      "User: Show me an example of a neural network that can perform cognitive task over real time\n",
      "\n",
      "Answer: Theory\n",
      "\n",
      "User: Show me an example of a neural network that can analyze a corpus of the brain and see if the input is not a result\n",
      "\n",
      "\n",
      "An example of some of the techniques described below, using a neural network:\n",
      "\n",
      "User: Show an example of a neural network to check the answer. User: Show me an example of a neural network to make an inference about input\n",
      "\n",
      "Answer: Theory\n",
      "\n",
      "User:\n",
      "\n",
      "Question: Why, but not in a word - you just want to be sure there is something wrong if something is wrong\n",
      "\n",
      "Question: Is there something wrong in some input of n\n",
      "\n",
      "Answer:\n",
      "\n",
      "Meak:\n",
      "\n",
      "ProblemA\n",
      "\n",
      "Problem B\n",
      "\n",
      "Fatal:\n",
      "\n",
      "Question: Is there something wrong if n is less than 5\n",
      "\n",
      "Answer:\n",
      "\n",
      "Meak+\n",
      "\n",
      "\n",
      "A neural network, a network that creates a prediction that answers only correctly, needs some input. A problem has a key and some of its inputs are used. A neural network has three main outputs:\n",
      "\n",
      "One of the inputs is how many of the input actions are in the input action. In a problem, the key always becomes one. In particular, at some point in the problem, the key can be divided into two parts and its output is the same. The key can, however, become two parts when the key changes. But what happens is that the key will change from one to the other or some other action, while some other action has just turned on. For instance, one of the inputs might be something like this :\n",
      "\n",
      "User: Show me an example of a 10 parameter neural network to help answer a question: What is the reason for the error? Solution : What is the answer? Answer : What is the answer?\n",
      "\n",
      "Example: Question: Is the memory faulty? Answer : Yes answer : No answer : No answer - this is an error, cause this problem.\n",
      "\n",
      "Example: Questions:\n",
      "\n",
      "Question: What is your favorite word? Answer : A word\n",
      "\n",
      "Answer: A word - Question: What colour shoes does the customer wear! Answer: Blue\n",
      "\n",
      "Question: What kind of shampoo do you use? Answer : A shampoo. Answer : I'm a long shampoo\n",
      "\n",
      "Question: What type of shoes do you use? Answer : A pair of shoes is a long\n"
     ]
    },
    {
     "name": "stdout",
     "output_type": "stream",
     "text": [
      "\n"
     ]
    }
   ],
   "source": [
    "from language_model.named_transformers_model import NamedModel\n",
    "\n",
    "dolly_v2_3b = \"databricks/dolly-v2-3b\"\n",
    "gpt2 = \"gpt2\"\n",
    "\n",
    "\n",
    "model = NamedModel(gpt2)\n",
    "\n",
    "\n",
    "response = model.complete(prompt)\n",
    "\n",
    "print(response)"
   ]
  },
  {
   "cell_type": "code",
   "execution_count": null,
   "metadata": {},
   "outputs": [],
   "source": []
  }
 ],
 "metadata": {
  "kernelspec": {
   "display_name": "env",
   "language": "python",
   "name": "python3"
  },
  "language_info": {
   "codemirror_mode": {
    "name": "ipython",
    "version": 3
   },
   "file_extension": ".py",
   "mimetype": "text/x-python",
   "name": "python",
   "nbconvert_exporter": "python",
   "pygments_lexer": "ipython3",
   "version": "3.11.3"
  },
  "orig_nbformat": 4
 },
 "nbformat": 4,
 "nbformat_minor": 2
}
